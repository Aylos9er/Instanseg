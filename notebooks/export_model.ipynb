{
 "cells": [
  {
   "cell_type": "code",
   "execution_count": 6,
   "metadata": {},
   "outputs": [
    {
     "name": "stdout",
     "output_type": "stream",
     "text": [
      "The autoreload extension is already loaded. To reload it, use:\n",
      "  %reload_ext autoreload\n"
     ]
    }
   ],
   "source": [
    "%load_ext autoreload\n",
    "%autoreload 2\n",
    "\n",
    "import torch\n",
    "from InstanSeg.utils.create_bioimageio_model import export_bioimageio\n",
    "from aicsimageio import AICSImage\n",
    "from InstanSeg.utils.utils import show_images\n",
    "\n",
    "import os\n",
    "os.environ[\"INSTANSEG_MODEL_PATH\"] = str(os.path.abspath(\"../InstanSeg/models/\"))\n",
    "os.environ[\"INSTANSEG_TORCHSCRIPT_PATH\"] = str(os.path.abspath(\"../InstanSeg/torchscripts/\"))\n",
    "os.environ[\"INSTANSEG_BIOIMAGEIO_PATH\"] = str(os.path.abspath(\"../InstanSeg/bioimageio_models/\"))"
   ]
  },
  {
   "cell_type": "code",
   "execution_count": null,
   "metadata": {},
   "outputs": [],
   "source": [
    "from InstanSeg.utils.utils import export_to_torchscript\n",
    "\n",
    "model_name = \"my_first_instanSeg\"\n",
    "\n",
    "export_to_torchscript(model_name, show_example=True)\n",
    "\n",
    "instanseg = torch.jit.load(\"../InstanSeg/torchscripts/\"+ model_name + \".pt\")\n",
    "\n",
    "export_bioimageio(instanseg, \n",
    "                model_name = model_name,\n",
    "                test_img_path = \"../InstanSeg/examples/HE_example.tif\",\n",
    "            )\n",
    "\n"
   ]
  }
 ],
 "metadata": {
  "kernelspec": {
   "display_name": "monai-bioimageio",
   "language": "python",
   "name": "python3"
  },
  "language_info": {
   "codemirror_mode": {
    "name": "ipython",
    "version": 3
   },
   "file_extension": ".py",
   "mimetype": "text/x-python",
   "name": "python",
   "nbconvert_exporter": "python",
   "pygments_lexer": "ipython3",
   "version": "3.9.19"
  },
  "orig_nbformat": 4
 },
 "nbformat": 4,
 "nbformat_minor": 2
}
